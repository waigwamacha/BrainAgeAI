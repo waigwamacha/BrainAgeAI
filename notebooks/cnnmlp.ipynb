{
 "cells": [
  {
   "cell_type": "markdown",
   "id": "98619597",
   "metadata": {},
   "source": [
    "### CNNMLP Implementation\n",
    "- Based on [Joo et al., 2023](https://www.nature.com/articles/s41598-023-49514-2#)"
   ]
  },
  {
   "cell_type": "markdown",
   "id": "b50d5072",
   "metadata": {},
   "source": [
    "![](../figures/bag.jpg)"
   ]
  },
  {
   "cell_type": "code",
   "execution_count": 1,
   "id": "c45e8e22",
   "metadata": {},
   "outputs": [
    {
     "name": "stdout",
     "output_type": "stream",
     "text": [
      "PyTorch version: 2.7.1+cu126\n",
      "torchvision version: 0.22.1+cu126\n"
     ]
    }
   ],
   "source": [
    "import os, shutil, sys, warnings\n",
    "\n",
    "import matplotlib.pyplot as plt\n",
    "import numpy as np\n",
    "import pandas as pd\n",
    "\n",
    "from datetime import datetime\n",
    "from timeit import default_timer as timer \n",
    "\n",
    "import torch, gc\n",
    "from torch import nn\n",
    "from torch.utils.data import DataLoader\n",
    "from torchinfo import summary\n",
    "\n",
    "from tqdm.auto import tqdm\n",
    "from pyprojroot import here\n",
    "\n",
    "sys.path.insert(0, f\"{here()}/src\")\n",
    "\n",
    "from cnn import CNNMLP, MRIDataset\n",
    "from model_train_eval_src import mae, mse, train_and_select_best_model\n",
    "\n",
    "from timer import print_train_time\n",
    "from plots import scatter_predicted_chronological, scatter_adjbrainage_age, scatter_bag_age, age_distribution_plot\n",
    "\n",
    "warnings.simplefilter(action='ignore', category=FutureWarning)\n",
    "pd.set_option('mode.chained_assignment', None)\n",
    "pd.set_option('display.max_columns', None)\n",
    "pd.reset_option(\"mode.chained_assignment\")"
   ]
  },
  {
   "cell_type": "code",
   "execution_count": 2,
   "id": "055ee914",
   "metadata": {},
   "outputs": [
    {
     "name": "stdout",
     "output_type": "stream",
     "text": [
      "Using device: cuda\n"
     ]
    }
   ],
   "source": [
    "device = \"cuda\" if torch.cuda.is_available() else \"cpu\"\n",
    "print(f\"Using device: {device}\")"
   ]
  },
  {
   "cell_type": "code",
   "execution_count": 3,
   "id": "bb6a9e0d",
   "metadata": {},
   "outputs": [],
   "source": [
    "#gc.collect()\n",
    "#torch.cuda.empty_cache()"
   ]
  },
  {
   "cell_type": "code",
   "execution_count": 4,
   "id": "c4c076c6",
   "metadata": {},
   "outputs": [
    {
     "name": "stdout",
     "output_type": "stream",
     "text": [
      "Fri Jul 11 17:06:41 2025       \n",
      "+---------------------------------------------------------------------------------------+\n",
      "| NVIDIA-SMI 535.247.01             Driver Version: 535.247.01   CUDA Version: 12.2     |\n",
      "|-----------------------------------------+----------------------+----------------------+\n",
      "| GPU  Name                 Persistence-M | Bus-Id        Disp.A | Volatile Uncorr. ECC |\n",
      "| Fan  Temp   Perf          Pwr:Usage/Cap |         Memory-Usage | GPU-Util  Compute M. |\n",
      "|                                         |                      |               MIG M. |\n",
      "|=========================================+======================+======================|\n",
      "|   0  NVIDIA GeForce GTX 1080 Ti     On  | 00000000:01:00.0  On |                  N/A |\n",
      "|  0%   47C    P0              65W / 280W |    836MiB / 11264MiB |      2%      Default |\n",
      "|                                         |                      |                  N/A |\n",
      "+-----------------------------------------+----------------------+----------------------+\n",
      "                                                                                         \n",
      "+---------------------------------------------------------------------------------------+\n",
      "| Processes:                                                                            |\n",
      "|  GPU   GI   CI        PID   Type   Process name                            GPU Memory |\n",
      "|        ID   ID                                                             Usage      |\n",
      "|=======================================================================================|\n",
      "|    0   N/A  N/A      2743      G   /usr/lib/xorg/Xorg                          102MiB |\n",
      "|    0   N/A  N/A      6423      G   /usr/lib/xorg/Xorg                          314MiB |\n",
      "|    0   N/A  N/A      6556      G   /usr/bin/gnome-shell                         66MiB |\n",
      "|    0   N/A  N/A     23591      G   /usr/lib/firefox/firefox                    188MiB |\n",
      "|    0   N/A  N/A   3285303      G   /usr/share/code/code                        141MiB |\n",
      "+---------------------------------------------------------------------------------------+\n"
     ]
    }
   ],
   "source": [
    "!nvidia-smi"
   ]
  },
  {
   "cell_type": "code",
   "execution_count": 5,
   "id": "ccce3f66",
   "metadata": {},
   "outputs": [],
   "source": [
    "proj_dir = here()"
   ]
  },
  {
   "cell_type": "code",
   "execution_count": 6,
   "id": "a74cc01b",
   "metadata": {},
   "outputs": [],
   "source": [
    "torch.manual_seed(42)\n",
    "base_model = CNNMLP(input_shape=1, hidden_units=32, output_shape=1).to(device)\n",
    "#base_model"
   ]
  },
  {
   "cell_type": "code",
   "execution_count": 7,
   "id": "f893d8d0",
   "metadata": {},
   "outputs": [
    {
     "data": {
      "text/plain": [
       "==========================================================================================\n",
       "Layer (type:depth-idx)                   Output Shape              Param #\n",
       "==========================================================================================\n",
       "CNNMLP                                   [3, 1]                    --\n",
       "├─Conv3d: 1-1                            [3, 32, 119, 143, 119]    896\n",
       "├─BatchNorm3d: 1-2                       [3, 32, 119, 143, 119]    64\n",
       "├─ReLU: 1-3                              [3, 32, 119, 143, 119]    --\n",
       "├─MaxPool3d: 1-4                         [3, 32, 118, 142, 118]    --\n",
       "├─Conv3d: 1-5                            [3, 32, 118, 142, 118]    27,680\n",
       "├─BatchNorm3d: 1-6                       [3, 32, 118, 142, 118]    64\n",
       "├─ReLU: 1-7                              [3, 32, 118, 142, 118]    --\n",
       "├─MaxPool3d: 1-8                         [3, 32, 59, 71, 59]       --\n",
       "├─Conv3d: 1-9                            [3, 32, 59, 71, 59]       27,680\n",
       "├─BatchNorm3d: 1-10                      [3, 32, 59, 71, 59]       64\n",
       "├─ReLU: 1-11                             [3, 32, 59, 71, 59]       --\n",
       "├─MaxPool3d: 1-12                        [3, 32, 29, 35, 29]       --\n",
       "├─Conv3d: 1-13                           [3, 32, 29, 35, 29]       27,680\n",
       "├─BatchNorm3d: 1-14                      [3, 32, 29, 35, 29]       64\n",
       "├─ReLU: 1-15                             [3, 32, 29, 35, 29]       --\n",
       "├─MaxPool3d: 1-16                        [3, 32, 14, 17, 14]       --\n",
       "├─Conv3d: 1-17                           [3, 32, 14, 17, 14]       27,680\n",
       "├─BatchNorm3d: 1-18                      [3, 32, 14, 17, 14]       64\n",
       "├─ReLU: 1-19                             [3, 32, 14, 17, 14]       --\n",
       "├─MaxPool3d: 1-20                        [3, 32, 7, 8, 7]          --\n",
       "├─Flatten: 1-21                          [3, 12544]                --\n",
       "├─Linear: 1-22                           [3, 32]                   401,440\n",
       "├─ReLU: 1-23                             [3, 32]                   --\n",
       "├─BatchNorm1d: 1-24                      [3, 32]                   64\n",
       "├─Dropout: 1-25                          [3, 32]                   --\n",
       "├─Linear: 1-26                           [3, 1]                    33\n",
       "├─ReLU: 1-27                             [3, 1]                    --\n",
       "==========================================================================================\n",
       "Total params: 513,473\n",
       "Trainable params: 513,473\n",
       "Non-trainable params: 0\n",
       "Total mult-adds (Units.GIGABYTES): 192.88\n",
       "==========================================================================================\n",
       "Input size (MB): 25.48\n",
       "Forward/backward pass size (MB): 6577.38\n",
       "Params size (MB): 2.05\n",
       "Estimated Total Size (MB): 6604.91\n",
       "=========================================================================================="
      ]
     },
     "execution_count": 7,
     "metadata": {},
     "output_type": "execute_result"
    }
   ],
   "source": [
    "summary(model=base_model, input_size=(3, 1, 121, 145, 121))"
   ]
  },
  {
   "cell_type": "markdown",
   "id": "3eca8888",
   "metadata": {},
   "source": [
    "#### Load Training Data"
   ]
  },
  {
   "cell_type": "code",
   "execution_count": 8,
   "id": "d7a02065",
   "metadata": {},
   "outputs": [],
   "source": [
    "data_directory = \"/shared/uher/Murage/BrainAgefMRI/data/mri/\" #\"/data/sriharsha/brain_age_mri/mri/\"\n",
    "pheno_directory = \"/shared/uher/Murage/BrainAgefMRI/data/mri_phenotype_partitioned.csv\" #\"/data/sriharsha/brain_age_mri/mri_phenotype_partitioned.csv\""
   ]
  },
  {
   "cell_type": "code",
   "execution_count": 9,
   "id": "25f98e46",
   "metadata": {},
   "outputs": [],
   "source": [
    "df = pd.read_csv(pheno_directory)\n",
    "df['filename'] = df['filename'] + '.gz'\n",
    "df['filename'] = df['filename'].str.strip()"
   ]
  },
  {
   "cell_type": "code",
   "execution_count": 10,
   "id": "9e3a6a5f",
   "metadata": {},
   "outputs": [
    {
     "name": "stdout",
     "output_type": "stream",
     "text": [
      " Train N: 2312 | Validation N: 570\n"
     ]
    }
   ],
   "source": [
    "# Save train and validation filenames into list\n",
    "train = df[df['split'] == 'TRAINING']\n",
    "validation = df[df['split'] == 'VALIDATE']\n",
    "train_ids = train['filename'].to_list()\n",
    "validation_ids = validation['filename'].to_list()\n",
    "\n",
    "print(f\" Train N: {len(train_ids)} | Validation N: {len(validation_ids)}\") "
   ]
  },
  {
   "cell_type": "code",
   "execution_count": 11,
   "id": "f408a236",
   "metadata": {},
   "outputs": [
    {
     "name": "stdout",
     "output_type": "stream",
     "text": [
      "Train N: 2312\n",
      "Validation N: 570\n"
     ]
    }
   ],
   "source": [
    "train_n, val_n = [], []\n",
    "for file in os.listdir(data_directory):\n",
    "    #print(file)\n",
    "    if file in train_ids:\n",
    "        train_n.append(file)\n",
    "        if not os.path.exists(f\"/shared/uher/Murage/BrainAgefMRI/data/train/{file}\"):\n",
    "            shutil.copy(f\"/shared/uher/Murage/BrainAgefMRI/data/mri/{file}\", f\"/shared/uher/Murage/BrainAgefMRI/data/train/{file}\")\n",
    "        else:\n",
    "            continue\n",
    "\n",
    "    if file in validation_ids:\n",
    "        val_n.append(file)\n",
    "        if not os.path.exists(f\"/shared/uher/Murage/BrainAgefMRI/data/validation/{file}\"):\n",
    "            shutil.copy(f\"/shared/uher/Murage/BrainAgefMRI/data/mri/{file}\", f\"/shared/uher/Murage/BrainAgefMRI/data/validation/{file}\")\n",
    "        else:\n",
    "            continue\n",
    "\n",
    "print(f\"Train N: {len(set(train_n))}\")\n",
    "print(f\"Validation N: {len(set(val_n))}\")"
   ]
  },
  {
   "cell_type": "code",
   "execution_count": 12,
   "id": "19c3205d",
   "metadata": {},
   "outputs": [],
   "source": [
    "train = train[['filename', 'scan_age', 'project']]\n",
    "validation = validation[['filename', 'scan_age', 'project']]"
   ]
  },
  {
   "cell_type": "markdown",
   "id": "2ffe87e1",
   "metadata": {},
   "source": [
    "#### Make Train Dataloader"
   ]
  },
  {
   "cell_type": "code",
   "execution_count": 13,
   "id": "fc63b4f7",
   "metadata": {},
   "outputs": [],
   "source": [
    "train_data_directory = \"/shared/uher/Murage/BrainAgefMRI/data/train/\"\n",
    "validation_data_directory = \"/shared/uher/Murage/BrainAgefMRI/data/validation/\""
   ]
  },
  {
   "cell_type": "code",
   "execution_count": 14,
   "id": "8a684987",
   "metadata": {},
   "outputs": [],
   "source": [
    "train_dataset = MRIDataset(df=train, id_col='filename', target_col='scan_age', root_dir=train_data_directory)\n",
    "validation_dataset = MRIDataset(df=validation, id_col='filename', target_col='scan_age', root_dir=validation_data_directory)"
   ]
  },
  {
   "cell_type": "code",
   "execution_count": 15,
   "id": "0a0e3f51",
   "metadata": {},
   "outputs": [],
   "source": [
    "train_dataloader = DataLoader(train_dataset, batch_size=3, shuffle=True, pin_memory=True)\n",
    "validation_dataloader = DataLoader(validation_dataset, batch_size=2, shuffle=False, pin_memory=True)"
   ]
  },
  {
   "cell_type": "code",
   "execution_count": 16,
   "id": "a3155cab",
   "metadata": {},
   "outputs": [
    {
     "data": {
      "application/vnd.microsoft.datawrangler.viewer.v0+json": {
       "columns": [
        {
         "name": "index",
         "rawType": "int64",
         "type": "integer"
        },
        {
         "name": "filename",
         "rawType": "object",
         "type": "string"
        },
        {
         "name": "scan_age",
         "rawType": "float64",
         "type": "float"
        },
        {
         "name": "project",
         "rawType": "object",
         "type": "string"
        }
       ],
       "ref": "5bf5b3d5-6274-4cf8-ba0f-9be01e23d445",
       "rows": [
        [
         "0",
         "HBN-CBIC-sub-NDARDH086ZKK.nii.gz",
         "9.488364",
         "HBN"
        ],
        [
         "1",
         "HBN-CBIC-sub-NDARJY676CWZ.nii.gz",
         "11.823636",
         "HBN"
        ],
        [
         "2",
         "HBN-CBIC-sub-NDARWR247CE1.nii.gz",
         "16.496691",
         "HBN"
        ],
        [
         "5",
         "HBN-CBIC-sub-NDARDR439HY2.nii.gz",
         "13.463723",
         "HBN"
        ],
        [
         "6",
         "HBN-CBIC-sub-NDARTJ433TB5.nii.gz",
         "12.997718",
         "HBN"
        ]
       ],
       "shape": {
        "columns": 3,
        "rows": 5
       }
      },
      "text/html": [
       "<div>\n",
       "<style scoped>\n",
       "    .dataframe tbody tr th:only-of-type {\n",
       "        vertical-align: middle;\n",
       "    }\n",
       "\n",
       "    .dataframe tbody tr th {\n",
       "        vertical-align: top;\n",
       "    }\n",
       "\n",
       "    .dataframe thead th {\n",
       "        text-align: right;\n",
       "    }\n",
       "</style>\n",
       "<table border=\"1\" class=\"dataframe\">\n",
       "  <thead>\n",
       "    <tr style=\"text-align: right;\">\n",
       "      <th></th>\n",
       "      <th>filename</th>\n",
       "      <th>scan_age</th>\n",
       "      <th>project</th>\n",
       "    </tr>\n",
       "  </thead>\n",
       "  <tbody>\n",
       "    <tr>\n",
       "      <th>0</th>\n",
       "      <td>HBN-CBIC-sub-NDARDH086ZKK.nii.gz</td>\n",
       "      <td>9.488364</td>\n",
       "      <td>HBN</td>\n",
       "    </tr>\n",
       "    <tr>\n",
       "      <th>1</th>\n",
       "      <td>HBN-CBIC-sub-NDARJY676CWZ.nii.gz</td>\n",
       "      <td>11.823636</td>\n",
       "      <td>HBN</td>\n",
       "    </tr>\n",
       "    <tr>\n",
       "      <th>2</th>\n",
       "      <td>HBN-CBIC-sub-NDARWR247CE1.nii.gz</td>\n",
       "      <td>16.496691</td>\n",
       "      <td>HBN</td>\n",
       "    </tr>\n",
       "    <tr>\n",
       "      <th>5</th>\n",
       "      <td>HBN-CBIC-sub-NDARDR439HY2.nii.gz</td>\n",
       "      <td>13.463723</td>\n",
       "      <td>HBN</td>\n",
       "    </tr>\n",
       "    <tr>\n",
       "      <th>6</th>\n",
       "      <td>HBN-CBIC-sub-NDARTJ433TB5.nii.gz</td>\n",
       "      <td>12.997718</td>\n",
       "      <td>HBN</td>\n",
       "    </tr>\n",
       "  </tbody>\n",
       "</table>\n",
       "</div>"
      ],
      "text/plain": [
       "                           filename   scan_age project\n",
       "0  HBN-CBIC-sub-NDARDH086ZKK.nii.gz   9.488364     HBN\n",
       "1  HBN-CBIC-sub-NDARJY676CWZ.nii.gz  11.823636     HBN\n",
       "2  HBN-CBIC-sub-NDARWR247CE1.nii.gz  16.496691     HBN\n",
       "5  HBN-CBIC-sub-NDARDR439HY2.nii.gz  13.463723     HBN\n",
       "6  HBN-CBIC-sub-NDARTJ433TB5.nii.gz  12.997718     HBN"
      ]
     },
     "execution_count": 16,
     "metadata": {},
     "output_type": "execute_result"
    }
   ],
   "source": [
    "train.head()"
   ]
  },
  {
   "cell_type": "markdown",
   "id": "11a15fc6",
   "metadata": {},
   "source": [
    "#### Print first train & validation samples"
   ]
  },
  {
   "cell_type": "code",
   "execution_count": 17,
   "id": "8180050a",
   "metadata": {},
   "outputs": [
    {
     "name": "stdout",
     "output_type": "stream",
     "text": [
      "Index: 0, Image shape: torch.Size([1, 121, 145, 121]), Label: tensor([9.4884])\n",
      "Index: 1, Image shape: torch.Size([1, 121, 145, 121]), Label: tensor([11.8236])\n",
      "Index: 2, Image shape: torch.Size([1, 121, 145, 121]), Label: tensor([16.4967])\n",
      "Index: 3, Image shape: torch.Size([1, 121, 145, 121]), Label: tensor([13.4637])\n",
      "Index: 4, Image shape: torch.Size([1, 121, 145, 121]), Label: tensor([12.9977])\n"
     ]
    }
   ],
   "source": [
    "for i in range(5):\n",
    "    try:\n",
    "        image, label = train_dataset[i]\n",
    "        print(f\"Index: {i}, Image shape: {image.shape if hasattr(image, 'shape') else type(image)}, Label: {label}\")\n",
    "    except KeyError:\n",
    "        print(f\"Index: {i}, Image shape: {image.shape if hasattr(image, 'shape') else type(image)}, Label: {label}\")\n",
    "        #print(f\"Index {i}: not found\")"
   ]
  },
  {
   "cell_type": "code",
   "execution_count": 18,
   "id": "76d00dd7",
   "metadata": {},
   "outputs": [
    {
     "name": "stdout",
     "output_type": "stream",
     "text": [
      "Index: 0, Image shape: torch.Size([1, 121, 145, 121]), Label: tensor([9.4774])\n",
      "Index: 1, Image shape: torch.Size([1, 121, 145, 121]), Label: tensor([16.4447])\n",
      "Index: 2, Image shape: torch.Size([1, 121, 145, 121]), Label: tensor([9.1598])\n",
      "Index: 3, Image shape: torch.Size([1, 121, 145, 121]), Label: tensor([14.1674])\n",
      "Index: 4, Image shape: torch.Size([1, 121, 145, 121]), Label: tensor([9.0935])\n"
     ]
    }
   ],
   "source": [
    "for i in range(5):\n",
    "    try:\n",
    "        image, label = validation_dataset[i]\n",
    "        print(f\"Index: {i}, Image shape: {image.shape if hasattr(image, 'shape') else type(image)}, Label: {label}\")\n",
    "    except KeyError:\n",
    "        print(f\"Index: {i}, Image shape: {image.shape if hasattr(image, 'shape') else type(image)}, Label: {label}\")\n",
    "        #print(f\"Index {i}: not found\")"
   ]
  },
  {
   "cell_type": "markdown",
   "id": "6568b5b2",
   "metadata": {},
   "source": [
    "##### Compare shape of image at each stage"
   ]
  },
  {
   "cell_type": "code",
   "execution_count": 19,
   "id": "3d80609c",
   "metadata": {},
   "outputs": [
    {
     "name": "stdout",
     "output_type": "stream",
     "text": [
      "torch.Size([3, 1, 121, 145, 121]), tensor([[17.6000],\n",
      "        [ 9.0000],\n",
      "        [14.0000]])\n"
     ]
    }
   ],
   "source": [
    "image, label = next(iter(train_dataloader))\n",
    "print(f'{image.shape}, {label}')"
   ]
  },
  {
   "cell_type": "markdown",
   "id": "313caa79",
   "metadata": {},
   "source": [
    "##### Optimizer"
   ]
  },
  {
   "cell_type": "code",
   "execution_count": 20,
   "id": "6b7c1b38",
   "metadata": {},
   "outputs": [],
   "source": [
    "optimizer = torch.optim.Adam(base_model.parameters(), lr=0.001)"
   ]
  },
  {
   "cell_type": "markdown",
   "id": "9e1fde4d",
   "metadata": {},
   "source": [
    "##### Train CNNMLP Model"
   ]
  },
  {
   "cell_type": "code",
   "execution_count": 21,
   "id": "f4dd7971",
   "metadata": {},
   "outputs": [
    {
     "data": {
      "application/vnd.jupyter.widget-view+json": {
       "model_id": "4633929baf394972aa55b0c07f7c3110",
       "version_major": 2,
       "version_minor": 0
      },
      "text/plain": [
       "  0%|          | 0/20 [00:00<?, ?it/s]"
      ]
     },
     "metadata": {},
     "output_type": "display_data"
    },
    {
     "name": "stdout",
     "output_type": "stream",
     "text": [
      "Epoch: 1\n",
      "-------\n",
      "Train Loss: 9.7061 | Validation MAE: 18.1474 | RMSE: 19.1794 \n",
      "Epoch: 2\n",
      "-------\n",
      "Train Loss: 4.6555 | Validation MAE: 6.4577 | RMSE: 6.8628 \n",
      "Epoch: 3\n",
      "-------\n",
      "Train Loss: 4.4203 | Validation MAE: 2.8140 | RMSE: 3.1413 \n",
      "Epoch: 4\n",
      "-------\n",
      "Train Loss: 4.4961 | Validation MAE: 12.5967 | RMSE: 13.1062 \n",
      "Epoch: 5\n",
      "-------\n",
      "Train Loss: 4.4014 | Validation MAE: 2.8464 | RMSE: 3.1359 \n",
      "Epoch: 6\n",
      "-------\n",
      "Train Loss: 4.2962 | Validation MAE: 3.8584 | RMSE: 4.1237 \n",
      "Epoch: 7\n",
      "-------\n",
      "Train Loss: 4.1992 | Validation MAE: 3.0815 | RMSE: 3.3577 \n",
      "Epoch: 8\n",
      "-------\n",
      "Train Loss: 4.2059 | Validation MAE: 3.4106 | RMSE: 3.7349 \n",
      "Epoch: 9\n",
      "-------\n",
      "Train Loss: 4.2345 | Validation MAE: 6.3752 | RMSE: 6.7455 \n",
      "Epoch: 10\n",
      "-------\n",
      "Train Loss: 4.2367 | Validation MAE: 3.1056 | RMSE: 3.3673 \n",
      "Epoch: 11\n",
      "-------\n",
      "Train Loss: 4.3645 | Validation MAE: 4.0971 | RMSE: 4.4300 \n",
      "Epoch: 12\n",
      "-------\n",
      "Train Loss: 4.2761 | Validation MAE: 3.4248 | RMSE: 3.7638 \n",
      "Epoch: 13\n",
      "-------\n",
      "Train Loss: 4.2580 | Validation MAE: 5.1060 | RMSE: 5.4991 \n",
      "Epoch: 14\n",
      "-------\n",
      "Train Loss: 4.1811 | Validation MAE: 3.2094 | RMSE: 3.4470 \n",
      "Epoch: 15\n",
      "-------\n",
      "Train Loss: 4.1928 | Validation MAE: 4.6648 | RMSE: 5.0068 \n",
      "Epoch: 16\n",
      "-------\n",
      "Train Loss: 4.1960 | Validation MAE: 4.5542 | RMSE: 5.2736 \n",
      "Epoch: 17\n",
      "-------\n",
      "Train Loss: 4.1115 | Validation MAE: 15.2779 | RMSE: 15.6953 \n",
      "Epoch: 18\n",
      "-------\n",
      "Train Loss: 4.2334 | Validation MAE: 8.6760 | RMSE: 9.0318 \n",
      "Epoch: 19\n",
      "-------\n",
      "Train Loss: 4.1866 | Validation MAE: 2.8700 | RMSE: 3.1418 \n",
      "Epoch: 20\n",
      "-------\n",
      "Train Loss: 4.2078 | Validation MAE: 2.9675 | RMSE: 3.2366 \n"
     ]
    }
   ],
   "source": [
    "cnnmlpmodel, tracking_loss = train_and_select_best_model(model=base_model, train_dataloader=train_dataloader, \n",
    "                    validation_dataloader=validation_dataloader, optimizer=optimizer, loss=mae, device=device, num_epochs=20)"
   ]
  },
  {
   "cell_type": "code",
   "execution_count": 24,
   "id": "14cf5b12",
   "metadata": {},
   "outputs": [
    {
     "data": {
      "image/png": "[encoded data removed]",
      "text/plain": [
       "<Figure size 1000x500 with 1 Axes>"
      ]
     },
     "metadata": {},
     "output_type": "display_data"
    }
   ],
   "source": [
    "tracking_loss = pd.Series(tracking_loss)\n",
    "\n",
    "plt.figure(figsize=(10,5))\n",
    "tracking_loss.plot(alpha=0.2, label='loss')\n",
    "tracking_loss.rolling(center=True, min_periods=1, window=10).mean().plot(\n",
    "    label=\"loss (,moving avg)\")\n",
    "\n",
    "plt.xlabel(\"(Epoch, Batch)\")\n",
    "plt.ylabel(\"loss\")\n",
    "plt.legend(loc=0)\n",
    "plt.show()"
   ]
  },
  {
   "cell_type": "code",
   "execution_count": null,
   "id": "783e0607",
   "metadata": {},
   "outputs": [],
   "source": []
  }
 ],
 "metadata": {
  "kernelspec": {
   "display_name": "brainagecnn",
   "language": "python",
   "name": "python3"
  },
  "language_info": {
   "codemirror_mode": {
    "name": "ipython",
    "version": 3
   },
   "file_extension": ".py",
   "mimetype": "text/x-python",
   "name": "python",
   "nbconvert_exporter": "python",
   "pygments_lexer": "ipython3",
   "version": "3.11.8"
  }
 },
 "nbformat": 4,
 "nbformat_minor": 5
}
